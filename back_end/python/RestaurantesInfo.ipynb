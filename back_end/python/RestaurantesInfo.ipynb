{
 "cells": [
  {
   "cell_type": "code",
   "execution_count": 37,
   "metadata": {},
   "outputs": [],
   "source": [
    "#author: Guilherme Costa\n",
    "# Classes necessárias:\n",
    "# nome do restaurante = qqvbed-p83tee-lTBxed\n",
    "# endereco = fO2voc-jRmmHf-MZArnb-Q7Zjwb\n",
    "# telefone = fO2voc-jRmmHf-MZArnb-Q7Zjwb\n",
    "# latitude = \n",
    "# longitude =\n",
    "restaurantes = []\n",
    "import time\n",
    "from selenium import webdriver\n",
    "import json\n",
    "# from selenium.webdriver.commom.keys import Keys\n",
    "from selenium.webdriver.support.ui import WebDriverWait\n",
    "\n",
    "url = 'https://www.google.com/maps/d/u/0/edit?hl=pt-BR&mid=1WApH6_FHgokSklQpjmtgxGFVbwcWCuRo&ll=-12.982319973050291%2C-38.465922206823734&z=14'\n",
    "driver = webdriver.Chrome()\n",
    "driver.get(url)\n",
    "driver.implicitly_wait(10)\n",
    "botao_lista= driver.find_elements_by_class_name('HzV7m-pbTTYe-KoToPc-ornU0b-hFsbo')\n",
    "botao_lista[0].click()\n",
    "lista_restaurantes = driver.find_elements_by_class_name('suEOdc')4\n",
    "\n",
    "for i in range(3,len(lista_restaurantes)):\n",
    "    lista_restaurantes[i].click()\n",
    "    time.sleep(3)\n",
    "    botao_voltar = driver.find_element_by_xpath('//*[@id=\"featurecardPanel\"]/div/div/div[3]/div[1]/div/span/span/span')\n",
    "    nome = driver.find_elements_by_class_name('qqvbed-p83tee-lTBxed')[0].text\n",
    "    endereco = driver.find_element_by_xpath('//*[@id=\"featurecardPanel\"]/div/div/div[4]/div[2]/div[2]').text\n",
    "    telefone = driver.find_element_by_xpath('//*[@id=\"featurecardPanel\"]/div/div/div[4]/div[2]/div[3]').text\n",
    "    url_latlong = driver.current_url\n",
    "    url_latlong = url_latlong.split('=')[3]\n",
    "    url_latlong = url_latlong.split('%2C')\n",
    "    latitude = url_latlong[0]\n",
    "    longitude = url_latlong[1][0:18]\n",
    "    restaurante_item = {\n",
    "        'nome': nome,\n",
    "        'endereco': endereco,\n",
    "        'telefone': telefone,\n",
    "        'latitude': latitude,\n",
    "        'longitude':longitude\n",
    "    }\n",
    "    restaurantes.append(restaurante_item)\n",
    "    botao_voltar.click()\n",
    "\n",
    "driver.close()\n",
    "with open('lista_restaurantes.json', 'w') as json_file:\n",
    "  json.dump(restaurantes, json_file)"
   ]
  },
  {
   "cell_type": "code",
   "execution_count": 35,
   "metadata": {},
   "outputs": [
    {
     "data": {
      "text/plain": [
       "[{'nome': 'Panificadora e Mercearia Del e Dal',\n",
       "  'endereco': 'R. Baixa do Silva, 90 - Matatu, Salvador - BA, 40250-060',\n",
       "  'telefone': '+55 71 3381-0532',\n",
       "  'latitude': '-12.978053000000019',\n",
       "  'longitude': '-38.49246679999999'},\n",
       " {'nome': 'Padaria e Delicatessen Andrade',\n",
       "  'endereco': 'R. Prof. Ascendino Bpo. dos Anjos, 37 - Cosme de Farias, Salvador - BA, 40250-180',\n",
       "  'telefone': '+55 71 3233-4076',\n",
       "  'latitude': '-12.97932530000003',\n",
       "  'longitude': '-38.49080730000003'},\n",
       " {'nome': 'Panilha Delicatessen Ltda. - EPP',\n",
       "  'endereco': 'R. Raul Leite, 677 - Vila Laura, Salvador - BA, 40270-010',\n",
       "  'telefone': '+55 71 3444-8080',\n",
       "  'latitude': '-12.972113000000018',\n",
       "  'longitude': '-38.48835859999997'},\n",
       " {'nome': 'VILLA da Vila (antiga Villa Gastronômica)',\n",
       "  'endereco': 'R. Lalita Costa, 20 - Vila Laura, Salvador - BA, 40270-090',\n",
       "  'telefone': '+55 71 3233-7218',\n",
       "  'latitude': '-12.971383000000007',\n",
       "  'longitude': '-38.49280099999998'},\n",
       " {'nome': 'Pizza Hut',\n",
       "  'endereco': 'R. Aristídes Fraga Lima, 175 - Pituba, Salvador - BA, 41810-315',\n",
       "  'telefone': '+55 71 3019-0641',\n",
       "  'latitude': '-12.990125699999988',\n",
       "  'longitude': '-38.45354880000002'},\n",
       " {'nome': 'Cazolla Gastrô Burguer Beer.',\n",
       "  'endereco': 'Av. Paulo VI, 1828 - Pituba, Salvador - BA, 41810-001',\n",
       "  'telefone': '+55 71 3016-1557',\n",
       "  'latitude': '-12.989663800000006',\n",
       "  'longitude': '-38.45963919999997'},\n",
       " {'nome': 'Bianca Monteiro',\n",
       "  'endereco': 'Alameda dos Sombreiros, 1110 - Pituba, Salvador - BA, 41820-420',\n",
       "  'telefone': '+55 71 3012-1046',\n",
       "  'latitude': '-12.982217000000007',\n",
       "  'longitude': '-38.45798589999998'},\n",
       " {'nome': 'Barbacoa Salvador',\n",
       "  'endereco': 'Av. Tancredo Neves, 909 - Caminho das Árvores, Salvador - BA, 41820-021',\n",
       "  'telefone': '+55 71 3342-4666',\n",
       "  'latitude': '-12.978988600000001',\n",
       "  'longitude': '-38.45768809999998'}]"
      ]
     },
     "execution_count": 35,
     "metadata": {},
     "output_type": "execute_result"
    }
   ],
   "source": [
    "restaurantes"
   ]
  }
 ],
 "metadata": {
  "kernelspec": {
   "display_name": "Python 3",
   "language": "python",
   "name": "python3"
  },
  "language_info": {
   "codemirror_mode": {
    "name": "ipython",
    "version": 3
   },
   "file_extension": ".py",
   "mimetype": "text/x-python",
   "name": "python",
   "nbconvert_exporter": "python",
   "pygments_lexer": "ipython3",
   "version": "3.7.3"
  }
 },
 "nbformat": 4,
 "nbformat_minor": 2
}
